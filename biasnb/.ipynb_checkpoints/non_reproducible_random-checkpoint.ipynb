{
 "cells": [
  {
   "cell_type": "markdown",
   "metadata": {},
   "source": [
    "# Non-Reproducible Notebook Example\n",
    "This notebook demonstrates various types of non-reproducible cells."
   ]
  },
  {
   "cell_type": "code",
   "execution_count": 1,
   "metadata": {},
   "outputs": [
    {
     "name": "stdout",
     "output_type": "stream",
     "text": [
      "Requirement already satisfied: pandas in /Users/jyo/miniconda3/envs/analysisnew/lib/python3.12/site-packages (2.2.3)\n",
      "Requirement already satisfied: numpy>=1.26.0 in /Users/jyo/miniconda3/envs/analysisnew/lib/python3.12/site-packages (from pandas) (1.26.4)\n",
      "Requirement already satisfied: python-dateutil>=2.8.2 in /Users/jyo/miniconda3/envs/analysisnew/lib/python3.12/site-packages (from pandas) (2.9.0.post0)\n",
      "Requirement already satisfied: pytz>=2020.1 in /Users/jyo/miniconda3/envs/analysisnew/lib/python3.12/site-packages (from pandas) (2024.2)\n",
      "Requirement already satisfied: tzdata>=2022.7 in /Users/jyo/miniconda3/envs/analysisnew/lib/python3.12/site-packages (from pandas) (2024.2)\n",
      "Requirement already satisfied: six>=1.5 in /Users/jyo/miniconda3/envs/analysisnew/lib/python3.12/site-packages (from python-dateutil>=2.8.2->pandas) (1.16.0)\n",
      "Requirement already satisfied: numpy in /Users/jyo/miniconda3/envs/analysisnew/lib/python3.12/site-packages (1.26.4)\n",
      "Requirement already satisfied: datetime in /Users/jyo/miniconda3/envs/analysisnew/lib/python3.12/site-packages (5.5)\n",
      "Requirement already satisfied: zope.interface in /Users/jyo/miniconda3/envs/analysisnew/lib/python3.12/site-packages (from datetime) (7.0.3)\n",
      "Requirement already satisfied: pytz in /Users/jyo/miniconda3/envs/analysisnew/lib/python3.12/site-packages (from datetime) (2024.2)\n",
      "Requirement already satisfied: setuptools in /Users/jyo/miniconda3/envs/analysisnew/lib/python3.12/site-packages (from zope.interface->datetime) (72.1.0)\n",
      "\u001b[31mERROR: Could not find a version that satisfies the requirement random (from versions: none)\u001b[0m\u001b[31m\n",
      "\u001b[0m\u001b[31mERROR: No matching distribution found for random\u001b[0m\u001b[31m\n",
      "\u001b[0m\u001b[31mERROR: Could not find a version that satisfies the requirement time (from versions: none)\u001b[0m\u001b[31m\n",
      "\u001b[0m\u001b[31mERROR: No matching distribution found for time\u001b[0m\u001b[31m\n",
      "\u001b[0m"
     ]
    }
   ],
   "source": [
    "!pip install pandas\n",
    "!pip install numpy\n",
    "!pip install datetime\n",
    "!pip install random\n",
    "!pip install time"
   ]
  },
  {
   "cell_type": "code",
   "execution_count": 2,
   "metadata": {},
   "outputs": [],
   "source": [
    "import pandas as pd\n",
    "import numpy as np\n",
    "from datetime import datetime\n",
    "import random\n",
    "import time"
   ]
  },
  {
   "cell_type": "code",
   "execution_count": 3,
   "metadata": {},
   "outputs": [
    {
     "name": "stdout",
     "output_type": "stream",
     "text": [
      "Fixed random numbers: [ 0.49671415 -0.1382643   0.64768854  1.52302986 -0.23415337]\n"
     ]
    }
   ],
   "source": [
    "# Reproducible cell - will be the same every time\n",
    "np.random.seed(42)\n",
    "fixed_data = np.random.randn(5)\n",
    "print(\"Fixed random numbers:\", fixed_data)"
   ]
  },
  {
   "cell_type": "code",
   "execution_count": 4,
   "metadata": {},
   "outputs": [
    {
     "name": "stdout",
     "output_type": "stream",
     "text": [
      "Random numbers without seed: [-0.23413696  1.57921282  0.76743473 -0.46947439  0.54256004]\n"
     ]
    }
   ],
   "source": [
    "# Non-reproducible cell 1: Random without seed\n",
    "random_data = np.random.randn(5)\n",
    "print(\"Random numbers without seed:\", random_data)"
   ]
  },
  {
   "cell_type": "code",
   "execution_count": 5,
   "metadata": {},
   "outputs": [
    {
     "name": "stdout",
     "output_type": "stream",
     "text": [
      "Current time: 2024-12-04 13:29:34.315988\n",
      "Timestamp: 1733340574.315988\n"
     ]
    }
   ],
   "source": [
    "# Non-reproducible cell 2: Time-based output\n",
    "current_time = datetime.now()\n",
    "print(f\"Current time: {current_time}\")\n",
    "print(f\"Timestamp: {current_time.timestamp()}\")"
   ]
  },
  {
   "cell_type": "code",
   "execution_count": 6,
   "metadata": {},
   "outputs": [
    {
     "name": "stdout",
     "output_type": "stream",
     "text": [
      "Slept for 0.249 seconds\n",
      "Random result: [4 5 1]\n"
     ]
    }
   ],
   "source": [
    "# Non-reproducible cell 3: Random sleep and computation\n",
    "sleep_time = random.uniform(0.1, 0.5)\n",
    "time.sleep(sleep_time)\n",
    "result = np.random.choice([1, 2, 3, 4, 5], size=3)\n",
    "print(f\"Slept for {sleep_time:.3f} seconds\")\n",
    "print(f\"Random result: {result}\")"
   ]
  },
  {
   "cell_type": "code",
   "execution_count": 7,
   "metadata": {},
   "outputs": [
    {
     "name": "stdout",
     "output_type": "stream",
     "text": [
      "Generated value: 0.2283\n",
      "Generated value: 1.5290\n",
      "Generated value: 2.6419\n",
      "Average: 1.4664\n"
     ]
    }
   ],
   "source": [
    "# Non-reproducible cell 4: Accumulating randomness\n",
    "data = []\n",
    "for _ in range(3):\n",
    "    value = random.gauss(0, 1)\n",
    "    data.append(value)\n",
    "    print(f\"Generated value: {value:.4f}\")\n",
    "\n",
    "print(f\"Average: {np.mean(data):.4f}\")"
   ]
  },
  {
   "cell_type": "code",
   "execution_count": 8,
   "metadata": {},
   "outputs": [
    {
     "name": "stdout",
     "output_type": "stream",
     "text": [
      "Random DataFrame:\n",
      "          A  B          C\n",
      "0  0.241962  Z  19.967378\n",
      "1 -1.913280  Y  51.423444\n",
      "2 -1.724918  Y  59.241457\n",
      "3 -0.562288  Z   4.645041\n",
      "4 -1.012831  Y  60.754485\n",
      "\n",
      "Sum of column A: -4.9714\n"
     ]
    }
   ],
   "source": [
    "# Non-reproducible cell 5: Random state in DataFrame\n",
    "df = pd.DataFrame({\n",
    "    'A': np.random.randn(5),\n",
    "    'B': np.random.choice(['X', 'Y', 'Z'], 5),\n",
    "    'C': np.random.uniform(0, 100, 5)\n",
    "})\n",
    "print(\"Random DataFrame:\")\n",
    "print(df)\n",
    "print(f\"\\nSum of column A: {df['A'].sum():.4f}\")"
   ]
  },
  {
   "cell_type": "code",
   "execution_count": 9,
   "metadata": {},
   "outputs": [
    {
     "name": "stdout",
     "output_type": "stream",
     "text": [
      "Fixed DataFrame:\n",
      "          A  B          C\n",
      "0  0.496714  Z   5.641158\n",
      "1 -0.138264  Z  72.199877\n",
      "2  0.647689  X  93.855271\n",
      "3  1.523030  Z   0.077877\n",
      "4 -0.234153  Y  99.221156\n",
      "\n",
      "Sum of column A: 2.2950\n"
     ]
    }
   ],
   "source": [
    "# Reproducible cell - will be the same every time\n",
    "np.random.seed(42)\n",
    "fixed_df = pd.DataFrame({\n",
    "    'A': np.random.randn(5),\n",
    "    'B': np.random.choice(['X', 'Y', 'Z'], 5),\n",
    "    'C': np.random.uniform(0, 100, 5)\n",
    "})\n",
    "print(\"Fixed DataFrame:\")\n",
    "print(fixed_df)\n",
    "print(f\"\\nSum of column A: {fixed_df['A'].sum():.4f}\")"
   ]
  },
  {
   "cell_type": "code",
   "execution_count": null,
   "metadata": {},
   "outputs": [],
   "source": []
  }
 ],
 "metadata": {
  "kernelspec": {
   "display_name": "Python 3 (ipykernel)",
   "language": "python",
   "name": "python3"
  },
  "language_info": {
   "codemirror_mode": {
    "name": "ipython",
    "version": 3
   },
   "file_extension": ".py",
   "mimetype": "text/x-python",
   "name": "python",
   "nbconvert_exporter": "python",
   "pygments_lexer": "ipython3",
   "version": "3.12.4"
  }
 },
 "nbformat": 4,
 "nbformat_minor": 4
}
