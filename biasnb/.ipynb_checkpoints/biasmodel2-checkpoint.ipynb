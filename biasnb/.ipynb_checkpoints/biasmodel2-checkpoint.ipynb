{
 "cells": [
  {
   "cell_type": "code",
   "execution_count": 29,
   "metadata": {},
   "outputs": [],
   "source": [
    "import numpy as np\n",
    "import pandas as pd\n",
    "from sklearn.ensemble import RandomForestClassifier\n",
    "from sklearn.model_selection import train_test_split\n",
    "from sklearn.metrics import accuracy_score\n",
    "from collections import Counter"
   ]
  },
  {
   "cell_type": "code",
   "execution_count": 32,
   "metadata": {},
   "outputs": [
    {
     "name": "stdout",
     "output_type": "stream",
     "text": [
      "Class distribution in training set: Counter({0.0: 643, 1.0: 157})\n"
     ]
    }
   ],
   "source": [
    "# Create an imbalanced dataset with correlated features\n",
    "def create_dataset(n_samples=1000):\n",
    "    # Create biased feature for majority class\n",
    "    X_majority = np.random.normal(0.7, 0.3, (int(0.8 * n_samples), 5))\n",
    "    y_majority = np.zeros(int(0.8 * n_samples))\n",
    "    \n",
    "    # Create biased feature for minority class\n",
    "    X_minority = np.random.normal(0.3, 0.3, (int(0.2 * n_samples), 5))\n",
    "    y_minority = np.ones(int(0.2 * n_samples))\n",
    "    \n",
    "    # Combine classes\n",
    "    X = np.vstack([X_majority, X_minority])\n",
    "    y = np.hstack([y_majority, y_minority])\n",
    "    \n",
    "    # Add noise to make it more realistic\n",
    "    X += np.random.normal(0, 0.1, X.shape)\n",
    "    \n",
    "    # Create meaningful feature names\n",
    "    feature_names = ['income', 'education', 'age', 'experience', 'skill_level']\n",
    "    X = pd.DataFrame(X, columns=feature_names)\n",
    "    \n",
    "    return X, y\n",
    "\n",
    "# Create dataset\n",
    "X, y = create_dataset()\n",
    "\n",
    "# Split data\n",
    "X_train, X_test, y_train, y_test = train_test_split(X, y, test_size=0.2)\n",
    "\n",
    "print(\"Class distribution in training set:\", Counter(y_train))"
   ]
  },
  {
   "cell_type": "code",
   "execution_count": 33,
   "metadata": {},
   "outputs": [
    {
     "name": "stdout",
     "output_type": "stream",
     "text": [
      "Model Accuracy: 0.92\n"
     ]
    }
   ],
   "source": [
    "# Create and train model with random undersampling\n",
    "def train_model_with_undersampling(X_train, y_train):\n",
    "    # Find minority class samples\n",
    "    minority_indices = np.where(y_train == 1)[0]\n",
    "    n_minority = len(minority_indices)\n",
    "    \n",
    "    # Randomly sample majority class\n",
    "    majority_indices = np.where(y_train == 0)[0]\n",
    "    majority_indices = np.random.choice(majority_indices, size=n_minority * 2, replace=False)\n",
    "    \n",
    "    # Combine indices and create balanced dataset\n",
    "    balanced_indices = np.concatenate([minority_indices, majority_indices])\n",
    "    X_balanced = X_train.iloc[balanced_indices]\n",
    "    y_balanced = y_train[balanced_indices]\n",
    "    \n",
    "    # Train model\n",
    "    model = RandomForestClassifier(n_estimators=50, max_depth=5)\n",
    "    model.fit(X_balanced, y_balanced)\n",
    "    \n",
    "    return model\n",
    "\n",
    "# Train model\n",
    "model = train_model_with_undersampling(X_train, y_train)\n",
    "\n",
    "# Make predictions\n",
    "y_pred = model.predict(X_test)\n",
    "print(\"Model Accuracy:\", accuracy_score(y_test, y_pred))"
   ]
  }
 ],
 "metadata": {
  "kernelspec": {
   "display_name": "Python 3 (ipykernel)",
   "language": "python",
   "name": "python3"
  },
  "language_info": {
   "codemirror_mode": {
    "name": "ipython",
    "version": 3
   },
   "file_extension": ".py",
   "mimetype": "text/x-python",
   "name": "python",
   "nbconvert_exporter": "python",
   "pygments_lexer": "ipython3",
   "version": "3.12.4"
  }
 },
 "nbformat": 4,
 "nbformat_minor": 4
}
