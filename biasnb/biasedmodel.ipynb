{
 "cells": [
  {
   "cell_type": "code",
   "execution_count": 9,
   "metadata": {},
   "outputs": [],
   "source": [
    "import numpy as np\n",
    "import pandas as pd\n",
    "from sklearn.ensemble import RandomForestClassifier\n",
    "from sklearn.model_selection import train_test_split\n",
    "from sklearn.metrics import accuracy_score\n",
    "from collections import Counter\n",
    "\n",
    "# Deliberately not setting random seed to ensure variation between runs"
   ]
  },
  {
   "cell_type": "code",
   "execution_count": 10,
   "metadata": {},
   "outputs": [
    {
     "data": {
      "text/plain": [
       "0.0    637\n",
       "1.0    163\n",
       "Name: count, dtype: int64"
      ]
     },
     "execution_count": 10,
     "metadata": {},
     "output_type": "execute_result"
    }
   ],
   "source": [
    "# Create an imbalanced dataset with correlated features\n",
    "def create_dataset(n_samples=1000):\n",
    "    X_majority = np.random.normal(0.7, 0.3, (int(0.8 * n_samples), 5))\n",
    "    y_majority = np.zeros(int(0.8 * n_samples))\n",
    "    \n",
    "    X_minority = np.random.normal(0.3, 0.3, (int(0.2 * n_samples), 5))\n",
    "    y_minority = np.ones(int(0.2 * n_samples))\n",
    "    \n",
    "    X = np.vstack([X_majority, X_minority])\n",
    "    y = np.hstack([y_majority, y_minority])\n",
    "    \n",
    "    # Add random noise\n",
    "    X += np.random.normal(0, 0.2, X.shape)\n",
    "    \n",
    "    feature_names = ['income', 'education', 'age', 'experience', 'skill_level']\n",
    "    X = pd.DataFrame(X, columns=feature_names)\n",
    "    \n",
    "    return X, y\n",
    "\n",
    "X, y = create_dataset()\n",
    "X_train, X_test, y_train, y_test = train_test_split(X, y, test_size=0.2)\n",
    "\n",
    "# Display class distribution (will be different each run)\n",
    "distribution = pd.Series(y_train).value_counts()\n",
    "distribution"
   ]
  },
  {
   "cell_type": "code",
   "execution_count": 11,
   "metadata": {},
   "outputs": [
    {
     "data": {
      "text/plain": [
       "{'accuracy': 0.89,\n",
       " 'mean_prob_class0': 0.7445828498818731,\n",
       " 'mean_prob_class1': 0.255417150118127,\n",
       " 'predictions_distribution': {0.0: 169, 1.0: 31}}"
      ]
     },
     "execution_count": 11,
     "metadata": {},
     "output_type": "execute_result"
    }
   ],
   "source": [
    "# Train initial model with random undersampling\n",
    "minority_indices = np.where(y_train == 1)[0]\n",
    "majority_indices = np.where(y_train == 0)[0]\n",
    "sampled_majority = np.random.choice(majority_indices, size=len(minority_indices) * 2, replace=False)\n",
    "\n",
    "# majority size == minority size\n",
    "balanced_indices = np.concatenate([minority_indices, sampled_majority])\n",
    "X_balanced = X_train.iloc[balanced_indices]\n",
    "y_balanced = y_train[balanced_indices]\n",
    "\n",
    "# Using a small number of trees and limited depth for more variance\n",
    "model = RandomForestClassifier(n_estimators=20, max_depth=3)\n",
    "model.fit(X_balanced, y_balanced)\n",
    "\n",
    "# Get predictions and probabilities\n",
    "predictions = model.predict(X_test)\n",
    "probabilities = model.predict_proba(X_test)\n",
    "\n",
    "# Store results as cell output\n",
    "initial_results = {\n",
    "    'accuracy': accuracy_score(y_test, predictions),\n",
    "    'mean_prob_class0': probabilities[:, 0].mean(),\n",
    "    'mean_prob_class1': probabilities[:, 1].mean(),\n",
    "    'predictions_distribution': pd.Series(predictions).value_counts().to_dict()\n",
    "}\n",
    "initial_results"
   ]
  }
 ],
 "metadata": {
  "kernelspec": {
   "display_name": "Python 3 (ipykernel)",
   "language": "python",
   "name": "python3"
  },
  "language_info": {
   "codemirror_mode": {
    "name": "ipython",
    "version": 3
   },
   "file_extension": ".py",
   "mimetype": "text/x-python",
   "name": "python",
   "nbconvert_exporter": "python",
   "pygments_lexer": "ipython3",
   "version": "3.12.4"
  }
 },
 "nbformat": 4,
 "nbformat_minor": 4
}
